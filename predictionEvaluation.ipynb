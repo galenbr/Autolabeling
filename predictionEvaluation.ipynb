{
 "cells": [
  {
   "cell_type": "code",
   "execution_count": 1,
   "metadata": {},
   "outputs": [],
   "source": [
    "from config import *\n",
    "from conversion import *\n",
    "import json\n",
    "from pycocotools.coco import COCO\n",
    "from pycocotools.cocoeval import COCOeval\n"
   ]
  },
  {
   "cell_type": "code",
   "execution_count": 2,
   "metadata": {},
   "outputs": [],
   "source": [
    "#Evaluates the labels in target_source agains the ground truth values in labels_source\n",
    "def runCOCO(labels_source, target_source, single_cat = True, run_name=\"\"):\n",
    "  gt = COCO(labels_source)\n",
    "\n",
    "  for ann in gt.anns:\n",
    "    #Merge all labels into one category\n",
    "    if(single_cat):\n",
    "      gt.anns[ann]['category_id'] = 1\n",
    "    gt.anns[ann]['iscrowd'] = 0\n",
    "  revDict = {}\n",
    "\n",
    "  for k in gt.imgs.keys():\n",
    "    img = gt.imgs[k]\n",
    "    revDict[img['file_name']] = img['id']\n",
    "\n",
    "  with open(target_source) as f:\n",
    "    json_str = f.read()\n",
    "\n",
    "  data = json.loads(json_str)\n",
    "\n",
    "  data['categories'] = gt.cats\n",
    "\n",
    "  new_anns = []\n",
    "  for ann in data['annotations']:\n",
    "    image_name = [x['file_name'] for x in data['images'] if x['id']==ann['image_id']][0]\n",
    "    if(image_name not in revDict.keys()):\n",
    "      continue\n",
    "    if(not ann['segmentation']):\n",
    "      continue\n",
    "    ann['image_id'] = revDict[image_name]\n",
    "    #Manually merging categories\n",
    "    if(ann['category_id'] in [0, 1, 4]):\n",
    "      ann['category_id'] = 1\n",
    "    ann['iscrowd'] = 0\n",
    "    new_anns.append(ann)\n",
    "\n",
    "\n",
    "  res = gt.loadRes(new_anns)\n",
    "  r = COCOeval(gt, res, iouType='segm')\n",
    "  #Toggle to control whether categories are used in scoring. \n",
    "  # By default it's set to off, to avoid penalizing the baseline DEVA which needs to rely on SAM's classification\n",
    "  r.params.useCats = not single_cat\n",
    "  r.evaluate()\n",
    "  r.accumulate()\n",
    "  #Visualization for sanity checking.\n",
    "  for i in range(0, 2):\n",
    "    res.showAnns(res.loadAnns(res.getAnnIds(i)), draw_bbox=True, name=f\"temp/{i}_res_{run_name}\")\n",
    "    gt.showAnns(gt.loadAnns(gt.getAnnIds(i)), draw_bbox=True, name=f\"temp/{i}_gt\")\n",
    "  return r\n"
   ]
  },
  {
   "cell_type": "code",
   "execution_count": 3,
   "metadata": {},
   "outputs": [],
   "source": [
    "#Sloppy test code. Set targetSource to your desired ground truth labels' path,\n",
    "# and targets to an array of paths holding the data to be examined.\n",
    "\n",
    "# testSource = \"/home/rbe07/Documents/Google/data/sequences/Labels/A_hand.json\"\n",
    "# testSource = \"/home/rbe07/Documents/Google/data/sequences/Labels/hand_labeled_corrected_labels.json\"\n",
    "# targetSource1 = '/home/rbe07/Documents/Google/datasets/CO_ckpt0.json'\n",
    "# targetSource2 = '/home/rbe07/Documents/Google/datasets/CO_corrected_ckpt0.json'\n",
    "# targetSource3 = '/home/rbe07/Documents/Google/datasets/CO_orig_ckpt0.json'\n",
    "# targetSource1 = '/home/rbe07/Documents/Google/datasets/test_naive.json'\n",
    "testSource = \"/home/rbe07/Documents/Google/data/sequences/Labels/CO_hand.json\"\n",
    "targetSource1 = \"/home/rbe07/Documents/Google/data/5_5/Labels/CardboardOcclusions_rev_labels_DEVA.json\"\n",
    "targetSource2 = \"/home/rbe07/Documents/Google/data/5_5/Labels/CardboardOcclusionsCorrected_rev_labels_DEVA.json\"\n",
    "targetSource3 = \"/home/rbe07/Downloads/output/pred.json\"\n",
    "# targetSource3 = \"/home/rbe07/Documents/Google/data/3_5/Labels/CardboardOcclusions_rev_labels_DEVA.json\"\n",
    "# targetSource4 = \"/home/rbe07/Documents/Google/data/5_3/Labels/CardboardOcclusions_rev_labels_DEVA.json\"\n",
    "\n",
    "\n",
    "# targets = [targetSource2, targetSource3, targetSource4, targetSource5]\n",
    "# targets = [targetSource2, targetSource3, targetSource4, targetSource5]\n",
    "targets = [targetSource1, targetSource2, targetSource3]\n"
   ]
  },
  {
   "cell_type": "code",
   "execution_count": null,
   "metadata": {},
   "outputs": [],
   "source": [
    "\n",
    "rets = []\n",
    "\n",
    "for i, ts in enumerate(targets):\n",
    "  ret = runCOCO(testSource, ts, single_cat=True, run_name=i)\n",
    "  rets.append(ret)"
   ]
  },
  {
   "cell_type": "code",
   "execution_count": null,
   "metadata": {},
   "outputs": [],
   "source": [
    "for r, name in zip(rets, targets):\n",
    "  print(f\"------{name}------\")\n",
    "  r.summarize()\n",
    "  print(\"------------\")"
   ]
  },
  {
   "cell_type": "code",
   "execution_count": null,
   "metadata": {},
   "outputs": [],
   "source": []
  },
  {
   "cell_type": "code",
   "execution_count": null,
   "metadata": {},
   "outputs": [],
   "source": []
  }
 ],
 "metadata": {
  "kernelspec": {
   "display_name": "circularNetClean",
   "language": "python",
   "name": "python3"
  },
  "language_info": {
   "codemirror_mode": {
    "name": "ipython",
    "version": 3
   },
   "file_extension": ".py",
   "mimetype": "text/x-python",
   "name": "python",
   "nbconvert_exporter": "python",
   "pygments_lexer": "ipython3",
   "version": "3.10.16"
  }
 },
 "nbformat": 4,
 "nbformat_minor": 2
}
